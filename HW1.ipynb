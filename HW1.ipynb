{
  "nbformat": 4,
  "nbformat_minor": 0,
  "metadata": {
    "colab": {
      "name": "HW1.ipynb",
      "provenance": [],
      "authorship_tag": "ABX9TyNa9QzJ3VENc9LEU3xqcJEh",
      "include_colab_link": true
    },
    "kernelspec": {
      "name": "python3",
      "display_name": "Python 3"
    },
    "language_info": {
      "name": "python"
    }
  },
  "cells": [
    {
      "cell_type": "markdown",
      "metadata": {
        "id": "view-in-github",
        "colab_type": "text"
      },
      "source": [
        "<a href=\"https://colab.research.google.com/github/IamJasonBian/csep546-hw1/blob/master/HW1.ipynb\" target=\"_parent\"><img src=\"https://colab.research.google.com/assets/colab-badge.svg\" alt=\"Open In Colab\"/></a>"
      ]
    },
    {
      "cell_type": "markdown",
      "metadata": {
        "id": "3seYviApbsiL"
      },
      "source": [
        "# Short Answer and “True or False” Conceptual questions\n",
        "\n"
      ]
    },
    {
      "cell_type": "markdown",
      "metadata": {
        "id": "XEg4Mzr7VlKY"
      },
      "source": [
        "**1a.** \\\\\n",
        "Bias is the difference between the expected model parameter value and the true parameter value. Variance is the amount that the estimated ML function will change given different training data. Typically, bias^2 decreases as complexity increases and variance increases as complexity increases. This tradeoff between bias and variance when we increase complexity is called the bias-variance tradeoff.\n",
        "\n",
        "---\n",
        "\n",
        "**1.b** \\\\\n",
        "As stated above in the definition, \n",
        "typically bias^2 decreases as complexity \n",
        "increases and variance increases as complexity increases. \n",
        "\n",
        "---\n",
        "\n",
        "**1.c** \\\\\n",
        "False, feature selection dictates how well the model generalizes on the test set. Having too few features will lead to bad performance on the test set. Having too many features can also lead to bad performace on the test set. \n",
        "\n",
        "![Picture.PNG](data:image/png;base64,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)\n",
        "\n"
      ]
    },
    {
      "cell_type": "markdown",
      "metadata": {
        "id": "Spy4XW8_bW5Q"
      },
      "source": [
        "**1.d**\n",
        "\n",
        "**1.e**"
      ]
    },
    {
      "cell_type": "markdown",
      "metadata": {
        "id": "Qf-VSYmVb89I"
      },
      "source": [
        "# Maximum Likelihood Estimation (MLE)"
      ]
    },
    {
      "cell_type": "markdown",
      "metadata": {
        "id": "ofhqBu_-dg5F"
      },
      "source": [
        "2a.\n",
        "$$\n",
        "x = [2, 4, 6, 0, 1] \\\\\n",
        "P(x|\\theta) = e^{-\\theta}\\frac{\\theta^{x}}{x!} \\\\\n",
        "\\widehat{\\theta}_{MLE} = \\text{arg } \\underset{\\theta}{max} \\text{ log }P(x|\\theta) \\\\\n",
        "f(x|\\theta) = \\sum_{n}^{j=1}ln(e^{-\\theta}\\frac{\\theta^{x}}{x!}) \\\\\n",
        "f(x|\\theta) = \\sum_{n}^{j=1}[-\\theta - ln(x_j!) + x_jln(\\theta)] \\\\\n",
        "f(x|\\theta) = -n\\theta - \\sum_{n}^{j=1}ln(x_j!) + ln(\\theta)\\sum_{n}^{j=1}x_j\\\\\n",
        "\\widehat{\\theta}_{MLE} = \\frac{d}{d\\theta}f(x|\\theta) \\\\\n",
        "\\frac{d}{d\\theta}f(x|\\theta) = \\frac{d}{d\\theta}(-n\\theta - \\sum_{n}^{j=1}ln(x_j!) + ln(\\theta) \\\\\n",
        "\\frac{d}{d\\theta}f(x|\\theta) = -n + \\frac{1}{\\theta}\\sum_{n}^{j=1}x_j \\\\\n",
        "\\widehat{\\theta}_{MLE} = \\frac{1}{n}\\sum_{n}^{j=1}x_j\n",
        "$$ "
      ]
    },
    {
      "cell_type": "markdown",
      "metadata": {
        "id": "58aNE2Nxuc6V"
      },
      "source": [
        "2b.\n",
        "$$\n",
        "\\widehat{\\theta}_{MLE} = 2.6 \\\\\n",
        "P(6|\\theta) = e^{-2.6}\\frac{2.6^{6}}{6!}\n",
        "$$"
      ]
    },
    {
      "cell_type": "code",
      "metadata": {
        "colab": {
          "base_uri": "https://localhost:8080/"
        },
        "id": "HCcSuj7Kud6P",
        "outputId": "ae109233-be4f-4c43-80ca-513e7eb5a896"
      },
      "source": [
        "import math\n",
        "\n",
        "val = math.exp(-2.6) * ((2.6 ** 6)/(math.factorial(6)))\n",
        "print(val)"
      ],
      "execution_count": null,
      "outputs": [
        {
          "output_type": "stream",
          "name": "stdout",
          "text": [
            "0.03186705562552451\n"
          ]
        }
      ]
    },
    {
      "cell_type": "markdown",
      "metadata": {
        "id": "vw8rKrGQwfFc"
      },
      "source": [
        "$$\n",
        "P(6|\\theta) = 0.0318671\n",
        "$$"
      ]
    },
    {
      "cell_type": "code",
      "metadata": {
        "id": "ew7MxIAtwitr"
      },
      "source": [
        ""
      ],
      "execution_count": null,
      "outputs": []
    }
  ]
}